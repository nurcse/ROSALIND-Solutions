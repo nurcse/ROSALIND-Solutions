{
 "cells": [
  {
   "cell_type": "markdown",
   "metadata": {},
   "source": [
    "# BA1N - Generate the d-Neighborhood of a String"
   ]
  },
  {
   "cell_type": "code",
   "execution_count": 5,
   "metadata": {
    "collapsed": false
   },
   "outputs": [
    {
     "name": "stdout",
     "output_type": "stream",
     "text": [
      "CTG\n",
      "GTG\n",
      "TTG\n",
      "AAG\n",
      "ACG\n",
      "AGG\n",
      "ATA\n",
      "ATC\n",
      "ATT\n",
      "ATG\n"
     ]
    }
   ],
   "source": [
    "def generatingDneighborhood(seq, d):\n",
    "    temp = \"\"\n",
    "    base = ['A', 'C', 'G', 'T']\n",
    "    for i in range(0, d):\n",
    "        for j in range(0, len(seq)):\n",
    "            for k in range(0, 4):\n",
    "                if(base[k] != seq[j]):\n",
    "                    #temp[j] = base[k]\n",
    "                    temp = seq[:j]+base[k]+seq[(j+1):]\n",
    "                    \n",
    "                    print(temp)\n",
    "    print(seq)\n",
    "    return\n",
    "\n",
    "generatingDneighborhood(\"ATG\", 1)"
   ]
  },
  {
   "cell_type": "code",
   "execution_count": null,
   "metadata": {
    "collapsed": true
   },
   "outputs": [],
   "source": []
  }
 ],
 "metadata": {
  "kernelspec": {
   "display_name": "Python 3",
   "language": "python",
   "name": "python3"
  },
  "language_info": {
   "codemirror_mode": {
    "name": "ipython",
    "version": 3
   },
   "file_extension": ".py",
   "mimetype": "text/x-python",
   "name": "python",
   "nbconvert_exporter": "python",
   "pygments_lexer": "ipython3",
   "version": "3.5.1"
  }
 },
 "nbformat": 4,
 "nbformat_minor": 0
}
