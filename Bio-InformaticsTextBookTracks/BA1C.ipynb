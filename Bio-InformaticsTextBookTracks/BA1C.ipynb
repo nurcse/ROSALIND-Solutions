{
 "cells": [
  {
   "cell_type": "markdown",
   "metadata": {},
   "source": [
    "# BA1C - Find the Reverse Complement of a String"
   ]
  },
  {
   "cell_type": "code",
   "execution_count": 4,
   "metadata": {
    "collapsed": false
   },
   "outputs": [
    {
     "name": "stdout",
     "output_type": "stream",
     "text": [
      "ACGGGTCATATAGTGCAGTATTACCACGAACACGATTCGCCGGACTGGATCACCGCAGAGAAAACGTCGCCAT\n"
     ]
    }
   ],
   "source": [
    "def complement(seq):\n",
    "    l = len(seq)\n",
    "    #print(\"seq : \" + seq)\n",
    "    complement_seq = \"\"\n",
    "    for i in range(0, l):\n",
    "        if(seq[i]==\"T\"):\n",
    "            complement_seq += \"A\"\n",
    "        if(seq[i] == \"A\"):\n",
    "            complement_seq += \"T\"\n",
    "        if(seq[i] == \"G\"):\n",
    "            complement_seq += \"C\"\n",
    "        if(seq[i] == \"C\"):\n",
    "            complement_seq += \"G\"\n",
    "    return complement_seq\n",
    "\n",
    "def rev_complement(seq):\n",
    "    #print(\"SEQ : \",seq)\n",
    "    complement_seq = complement(seq)\n",
    "    #print(\"com_seq : \", complement_seq , \"\\n\")\n",
    "    return complement_seq[::-1]\n",
    "print(rev_complement(\"ATGGCGACGTTTTCTCTGCGGTGATCCAGTCCGGCGAATCGTGTTCGTGGTAATACTGCACTATATGACCCGT\"))"
   ]
  },
  {
   "cell_type": "code",
   "execution_count": null,
   "metadata": {
    "collapsed": true
   },
   "outputs": [],
   "source": []
  }
 ],
 "metadata": {
  "kernelspec": {
   "display_name": "Python 3",
   "language": "python",
   "name": "python3"
  },
  "language_info": {
   "codemirror_mode": {
    "name": "ipython",
    "version": 3
   },
   "file_extension": ".py",
   "mimetype": "text/x-python",
   "name": "python",
   "nbconvert_exporter": "python",
   "pygments_lexer": "ipython3",
   "version": "3.5.1"
  }
 },
 "nbformat": 4,
 "nbformat_minor": 0
}
