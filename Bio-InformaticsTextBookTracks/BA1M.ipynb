{
 "cells": [
  {
   "cell_type": "markdown",
   "metadata": {},
   "source": [
    "# BA1M - Implement NumberToPattern"
   ]
  },
  {
   "cell_type": "code",
   "execution_count": 4,
   "metadata": {
    "collapsed": false
   },
   "outputs": [
    {
     "name": "stdout",
     "output_type": "stream",
     "text": [
      "AACGCGGCA\n"
     ]
    }
   ],
   "source": [
    "def numberToPattern(num, index):\n",
    "    mod = 0\n",
    "    divisor = 0\n",
    "    res = []\n",
    "    divisor = num//4\n",
    "    mod = num%4\n",
    "    #print(divisor)\n",
    "    res.append(mod)\n",
    "    while(divisor != 0):\n",
    "        mod = divisor%4\n",
    "        divisor = divisor//4\n",
    "        res.append(mod)\n",
    "    res = res[::-1]\n",
    "    dic = {0:'A', 1:'C', 2:'G', 3:'T'}\n",
    "    result = \"\"\n",
    "    if(index > len(res)):\n",
    "        a = index - len(res)\n",
    "        for i in range(0, a):\n",
    "            result += 'A'\n",
    "    for i in range(0, len(res)):\n",
    "        result += dic[res[i]]\n",
    "    return result\n",
    "\n",
    "print(numberToPattern(6564, 9))"
   ]
  },
  {
   "cell_type": "code",
   "execution_count": null,
   "metadata": {
    "collapsed": true
   },
   "outputs": [],
   "source": []
  }
 ],
 "metadata": {
  "kernelspec": {
   "display_name": "Python 3",
   "language": "python",
   "name": "python3"
  },
  "language_info": {
   "codemirror_mode": {
    "name": "ipython",
    "version": 3
   },
   "file_extension": ".py",
   "mimetype": "text/x-python",
   "name": "python",
   "nbconvert_exporter": "python",
   "pygments_lexer": "ipython3",
   "version": "3.5.1"
  }
 },
 "nbformat": 4,
 "nbformat_minor": 0
}
