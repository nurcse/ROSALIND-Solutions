{
 "cells": [
  {
   "cell_type": "markdown",
   "metadata": {},
   "source": [
    "# BA1F - Find a Position in a Genome Minimizing the Skew"
   ]
  },
  {
   "cell_type": "code",
   "execution_count": 3,
   "metadata": {
    "collapsed": false
   },
   "outputs": [
    {
     "name": "stdout",
     "output_type": "stream",
     "text": [
      "53 97 "
     ]
    }
   ],
   "source": [
    "def skewMinimisingPosition(genome):\n",
    "    l = len(genome)\n",
    "    minimum = l+100\n",
    "    count = 0\n",
    "    res = []\n",
    "    for i in range(0, l):\n",
    "        if(genome[i] == 'C'):\n",
    "            count -= 1\n",
    "        if(genome[i] == 'G'):\n",
    "            count += 1\n",
    "        if(count == minimum):\n",
    "            res.append(i+1)\n",
    "        if(count < minimum):\n",
    "            res.clear()\n",
    "            res.append(i+1)\n",
    "            minimum = count\n",
    "    return res\n",
    "result = skewMinimisingPosition(\"CCTATCGGTGGATTAGCATGTCCCTGTACGTTTCGCCGCGAACTAGTTCACACGGCTTGATGGCAAATGGTTTTTCCGGCGACCGTAATCGTCCACCGAG\")\n",
    "for i in range(0, len(result)):\n",
    "    print(result[i], end=\" \")"
   ]
  },
  {
   "cell_type": "code",
   "execution_count": null,
   "metadata": {
    "collapsed": true
   },
   "outputs": [],
   "source": []
  }
 ],
 "metadata": {
  "kernelspec": {
   "display_name": "Python 3",
   "language": "python",
   "name": "python3"
  },
  "language_info": {
   "codemirror_mode": {
    "name": "ipython",
    "version": 3
   },
   "file_extension": ".py",
   "mimetype": "text/x-python",
   "name": "python",
   "nbconvert_exporter": "python",
   "pygments_lexer": "ipython3",
   "version": "3.5.1"
  }
 },
 "nbformat": 4,
 "nbformat_minor": 0
}
