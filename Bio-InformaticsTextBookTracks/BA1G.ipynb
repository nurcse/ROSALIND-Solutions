{
 "cells": [
  {
   "cell_type": "markdown",
   "metadata": {},
   "source": [
    "# BA1G - Compute the Hamming Distance Between Two Strings"
   ]
  },
  {
   "cell_type": "code",
   "execution_count": 2,
   "metadata": {
    "collapsed": false
   },
   "outputs": [
    {
     "name": "stdout",
     "output_type": "stream",
     "text": [
      "3\n"
     ]
    }
   ],
   "source": [
    "def hammingDistance(dna1, dna2):\n",
    "    maxlen = max(len(dna1), len(dna2))\n",
    "    minlen = min(len(dna1), len(dna2))\n",
    "    count = maxlen - minlen\n",
    "    for i in range(0, minlen):\n",
    "        if(dna1[i] != dna2[i]):\n",
    "            count += 1\n",
    "    return count\n",
    "print(hammingDistance(\"GGGCCGTTGGT\", \"GGACCGTTGAC\"))"
   ]
  },
  {
   "cell_type": "code",
   "execution_count": null,
   "metadata": {
    "collapsed": true
   },
   "outputs": [],
   "source": []
  }
 ],
 "metadata": {
  "kernelspec": {
   "display_name": "Python 3",
   "language": "python",
   "name": "python3"
  },
  "language_info": {
   "codemirror_mode": {
    "name": "ipython",
    "version": 3
   },
   "file_extension": ".py",
   "mimetype": "text/x-python",
   "name": "python",
   "nbconvert_exporter": "python",
   "pygments_lexer": "ipython3",
   "version": "3.5.1"
  }
 },
 "nbformat": 4,
 "nbformat_minor": 0
}
