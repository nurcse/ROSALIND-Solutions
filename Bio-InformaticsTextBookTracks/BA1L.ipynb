{
 "cells": [
  {
   "cell_type": "markdown",
   "metadata": {},
   "source": [
    "# BA1L - Implement PatternToNumber"
   ]
  },
  {
   "cell_type": "code",
   "execution_count": 2,
   "metadata": {
    "collapsed": false
   },
   "outputs": [
    {
     "name": "stdout",
     "output_type": "stream",
     "text": [
      "2161555804173\n"
     ]
    }
   ],
   "source": [
    "def patternToNumber(dna):\n",
    "    l = len(dna)\n",
    "    res = 0\n",
    "    dic = {'A':0, 'C':1, 'G':2, 'T':3}\n",
    "    for i in range(0, l):\n",
    "        res = res + ((4**(l-i-1)) * dic[dna[i]])\n",
    "    return res\n",
    "\n",
    "print(patternToNumber(\"CTTCTCACGTACAACAAAATC\"))\n",
    "#print(patternToNumber(\"CCATGGC\"))"
   ]
  },
  {
   "cell_type": "code",
   "execution_count": null,
   "metadata": {
    "collapsed": true
   },
   "outputs": [],
   "source": []
  },
  {
   "cell_type": "code",
   "execution_count": null,
   "metadata": {
    "collapsed": true
   },
   "outputs": [],
   "source": []
  }
 ],
 "metadata": {
  "kernelspec": {
   "display_name": "Python 3",
   "language": "python",
   "name": "python3"
  },
  "language_info": {
   "codemirror_mode": {
    "name": "ipython",
    "version": 3
   },
   "file_extension": ".py",
   "mimetype": "text/x-python",
   "name": "python",
   "nbconvert_exporter": "python",
   "pygments_lexer": "ipython3",
   "version": "3.5.1"
  }
 },
 "nbformat": 4,
 "nbformat_minor": 0
}
