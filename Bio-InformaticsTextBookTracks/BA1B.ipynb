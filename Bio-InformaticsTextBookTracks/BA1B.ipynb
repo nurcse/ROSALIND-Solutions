{
 "cells": [
  {
   "cell_type": "markdown",
   "metadata": {},
   "source": [
    "# BA1B - Find the Most Frequent Words in a String"
   ]
  },
  {
   "cell_type": "code",
   "execution_count": 2,
   "metadata": {
    "collapsed": false
   },
   "outputs": [
    {
     "name": "stdout",
     "output_type": "stream",
     "text": [
      "AATCGCGGAAAA\n"
     ]
    }
   ],
   "source": [
    "def frequentWords(seq, k):\n",
    "    res = [];\n",
    "    lenOfSeq = len(seq)\n",
    "    count=0;\n",
    "    highest = 0;\n",
    "    for i in range(0, lenOfSeq-k+1):\n",
    "        kmer = seq[i : i+k]\n",
    "        for j in range(i, lenOfSeq-k+1):\n",
    "            if(seq[j : j+k] == kmer):\n",
    "                count = count+1;\n",
    "        if(highest == count):\n",
    "            res.append(kmer)\n",
    "            #print(\"equal\",res)\n",
    "        if(count > highest):\n",
    "            res.clear()\n",
    "            #print(res)\n",
    "            res.append(kmer)\n",
    "            #print(highest,\" \",count)\n",
    "            highest = count\n",
    "        count = 0;\n",
    "    #for i in range(0, len(res)):\n",
    "    #    print(res[i])\n",
    "    return res;\n",
    "            \n",
    "    \n",
    "result = frequentWords(\"TCGCGGAAAATATAGAAAATCGCGGAAAAATCGTACAATCGCGGAAAAACCCGGGGTCGCGGAAAATAGGAAGTTAGGAAGTTAGGAAGTACCCGGGGACCCGGGGTAGGAAGTTAGGAAGTATCGTACAAACCCGGGGACCCGGGGTCGCGGAAAATATAGAAAATAGGAAGTTAGGAAGTTATAGAAAAATCGTACAATCGCGGAAAATCGCGGAAAATCGCGGAAAATATAGAAAAATCGTACAATATAGAAAAATCGTACAATCGCGGAAAAATCGTACAATATAGAAAATAGGAAGTTAGGAAGTTCGCGGAAAATCGCGGAAAATAGGAAGTTAGGAAGTTATAGAAAAATCGTACAATCGCGGAAAAATCGTACAATCGCGGAAAAATCGTACAATCGCGGAAAATCGCGGAAAATATAGAAAAATCGTACAATAGGAAGTACCCGGGGACCCGGGGATCGTACAATATAGAAAATAGGAAGTTCGCGGAAAAATCGTACAATCGCGGAAAATAGGAAGTATCGTACAATCGCGGAAAATCGCGGAAAAACCCGGGGTATAGAAAATAGGAAGTACCCGGGGATCGTACAAACCCGGGGACCCGGGGATCGTACAAACCCGGGGACCCGGGGTCGCGGAAAATCGCGGAAAATAGGAAGTTATAGAAAATCGCGGAAAAATCGTACAATATAGAAAATAGGAAGTACCCGGGGTCGCGGAAAAACCCGGGGTCGCGGAAAAATCGTACAAACCCGGGGTCGCGGAAAATCGCGGAAAATAGGAAGTTAGGAAGTTAGGAAGTTATAGAAAATCGCGGAAAATATAGAAAAACCCGGGGACCCGGGGTCGCGGAAAAACCCGGGGTCGCGGAAAATAGGAAGTATCGTACAAACCCGGGGTCGCGGAAAAACCCGGGGACCCGGGG\", 12)\n",
    "for i in range(0, len(result)):\n",
    "        print(result[i])"
   ]
  },
  {
   "cell_type": "code",
   "execution_count": null,
   "metadata": {
    "collapsed": true
   },
   "outputs": [],
   "source": []
  }
 ],
 "metadata": {
  "kernelspec": {
   "display_name": "Python 3",
   "language": "python",
   "name": "python3"
  },
  "language_info": {
   "codemirror_mode": {
    "name": "ipython",
    "version": 3
   },
   "file_extension": ".py",
   "mimetype": "text/x-python",
   "name": "python",
   "nbconvert_exporter": "python",
   "pygments_lexer": "ipython3",
   "version": "3.5.1"
  }
 },
 "nbformat": 4,
 "nbformat_minor": 0
}
