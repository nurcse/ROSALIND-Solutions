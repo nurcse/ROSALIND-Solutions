{
 "cells": [
  {
   "cell_type": "markdown",
   "metadata": {},
   "source": [
    "# BA1K - Generate the Frequency Array of a Strings"
   ]
  },
  {
   "cell_type": "code",
   "execution_count": 3,
   "metadata": {
    "collapsed": false
   },
   "outputs": [
    {
     "name": "stdout",
     "output_type": "stream",
     "text": [
      "2 1 0 0 0 0 2 2 1 2 1 0 0 1 1 0 "
     ]
    }
   ],
   "source": [
    "from itertools import product\n",
    "\n",
    "def patternCount(seq, pattern):\n",
    "    count = 0;\n",
    "    lenOfSeq = len(seq);\n",
    "    lenOfPattern = len(pattern)\n",
    "    for i in range(0, (lenOfSeq-lenOfPattern)+1):\n",
    "        if(seq[i : i+lenOfPattern] == pattern):\n",
    "            count = count+1;\n",
    "    return count;\n",
    "\n",
    "def frequencyArray(dna, k):\n",
    "    res = []\n",
    "    for i in product(['A','C','G','T'],repeat = k):\n",
    "        kmer = ''.join(i)\n",
    "        #print(kmer)\n",
    "        count = patternCount(dna, kmer)\n",
    "        res.append(count)\n",
    "    return res\n",
    "\n",
    "result = frequencyArray(\"ACGCGGCTCTGAAA\", 2)\n",
    "for i in range(0, len(result)):\n",
    "    print(result[i], end=\" \")"
   ]
  },
  {
   "cell_type": "code",
   "execution_count": null,
   "metadata": {
    "collapsed": true
   },
   "outputs": [],
   "source": []
  }
 ],
 "metadata": {
  "kernelspec": {
   "display_name": "Python 3",
   "language": "python",
   "name": "python3"
  },
  "language_info": {
   "codemirror_mode": {
    "name": "ipython",
    "version": 3
   },
   "file_extension": ".py",
   "mimetype": "text/x-python",
   "name": "python",
   "nbconvert_exporter": "python",
   "pygments_lexer": "ipython3",
   "version": "3.5.1"
  }
 },
 "nbformat": 4,
 "nbformat_minor": 0
}
