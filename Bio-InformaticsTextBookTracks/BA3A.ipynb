{
 "cells": [
  {
   "cell_type": "markdown",
   "metadata": {},
   "source": [
    "# BA3A - Generate the k-mer Composition of a String"
   ]
  },
  {
   "cell_type": "code",
   "execution_count": 9,
   "metadata": {
    "collapsed": false
   },
   "outputs": [
    {
     "name": "stdout",
     "output_type": "stream",
     "text": [
      "CAATC\n",
      "AATCC\n",
      "ATCCA\n",
      "TCCAA\n",
      "CCAAC\n"
     ]
    }
   ],
   "source": [
    "def genKmerComposition(k, dna):\n",
    "    lenDna = len(dna)\n",
    "    kmer = []\n",
    "    for i in range(0, lenDna-k+1):\n",
    "        kmer.append(dna[i : i+k])\n",
    "        print(kmer[i])\n",
    "    return kmer\n",
    "\n",
    "k = 5  #50\n",
    "dna = 'CAATCCAAC'\n",
    "#dna = 'AGCGCCAGCCAGATTGCCACAGGCTTTAACTGCAATGTCACAGCCATAAACGGAGCAACGCAACTACCTATCTTTGCTGCTATGCCGCTGGTAGTCTACGGGGTGCGCGGCACATTAGTCCAATTTGTTTCGCTTACCGCACTGTCTTGCATTCTAAAAGACGAATCCTATTCGCTTCATACCTCTTAATGTGAGTCAGAGACCTCTTAGCATGAGAAACATTTGCCTCGTTGGAATTTGAATACATCTCTCGACCCATGCCGACAGAAAAGAATACCGTTACGTGAGACTCTTGGTAATTGCCGGGAGACTATGCAGGGAAGAAAGTCAGTTTGGAGTAACACTCTCACGTGGACGCGCCGGATTCTCGGTTTTTCGAGGTCTTGACGGTGCGGAAAAAATGTAGCCACGGTGATGGAAAATGTTGTCTTGTCACCCGATCTCTATCCTCTACAACAGATGTAGGTCTAATATCGAGGACGGGGTACGTTCCCCGTGTTGCCACACACATGGCGGCGTTAGGAAAGACTATAAAAGCCTTGTCATAGTTGATTACTCGAGGTTACCTCTGAGTAATTCATACAGAACAACATCCGCGAGCGCCCTCACGTACTGTAATTGCATTACGTGTATCGTTATATGTGAAGAAGCTTACGCGACACCCTTCGAATTAGGGTACGCCTCCTCAACTATTTCCAACCGGTTGGATATGGTATTTATTGTTCAGTATCCGTATCGCACGGACAATGAGTGAGGCCAAGTTTTCGCATTACGGCAGACGCAACCATTAACCTATATTACGCATAGCGTGACTTCTCGTGGTTGTTTGGGACTACATTCTAACTCTCACGTTGTACAGAAACGGACACGTCACGTTTTGAGCCACTCATGTCCGCTTCCATGCGTAATGTGCTCTCTAGTGTGAGTCACGATAAGAGCAACTTCATCCATACATCATAGGTAATTAGGATGCAAACTCATTTCGACTGCAAAACGTGGA'\n",
    "result = genKmerComposition(k, dna)\n",
    "#for i in range(0, len(result)):\n",
    "#    print(result[i])"
   ]
  },
  {
   "cell_type": "code",
   "execution_count": null,
   "metadata": {
    "collapsed": true
   },
   "outputs": [],
   "source": []
  },
  {
   "cell_type": "code",
   "execution_count": null,
   "metadata": {
    "collapsed": true
   },
   "outputs": [],
   "source": []
  }
 ],
 "metadata": {
  "kernelspec": {
   "display_name": "Python 3",
   "language": "python",
   "name": "python3"
  },
  "language_info": {
   "codemirror_mode": {
    "name": "ipython",
    "version": 3
   },
   "file_extension": ".py",
   "mimetype": "text/x-python",
   "name": "python",
   "nbconvert_exporter": "python",
   "pygments_lexer": "ipython3",
   "version": "3.5.1"
  }
 },
 "nbformat": 4,
 "nbformat_minor": 0
}
