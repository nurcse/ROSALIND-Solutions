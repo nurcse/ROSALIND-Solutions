{
 "cells": [
  {
   "cell_type": "markdown",
   "metadata": {},
   "source": [
    "# BA1I - Find the Most Frequent Words with Mismatches in a String"
   ]
  },
  {
   "cell_type": "code",
   "execution_count": 4,
   "metadata": {
    "collapsed": false
   },
   "outputs": [
    {
     "name": "stdout",
     "output_type": "stream",
     "text": [
      "ATGC ATGT GATG "
     ]
    }
   ],
   "source": [
    "from itertools import product\n",
    "\n",
    "def hammingDistance(dna1, dna2):\n",
    "    maxlen = max(len(dna1), len(dna2))\n",
    "    minlen = min(len(dna1), len(dna2))\n",
    "    count = maxlen - minlen\n",
    "    for i in range(0, minlen):\n",
    "        if(dna1[i] != dna2[i]):\n",
    "            count += 1\n",
    "    return count\n",
    "\n",
    "def frequentWordsWithMismatch(seq, k, d):\n",
    "    res = [];\n",
    "    lenOfSeq = len(seq)\n",
    "    count=0;\n",
    "    highest = 0;\n",
    "    for i in product(['A','C','G','T'],repeat = k):\n",
    "        kmer = ''.join(i)\n",
    "        #print(kmer)\n",
    "        for j in range(0, lenOfSeq-k+1):\n",
    "            seqKmer = seq[j : j+k]\n",
    "            if(hammingDistance(seqKmer, kmer) <= d):\n",
    "                count = count+1\n",
    "        if(highest == count):\n",
    "            res.append(kmer)\n",
    "            #print(\"equal\",res)\n",
    "        if(count > highest):\n",
    "            res.clear()\n",
    "            #print(res)\n",
    "            res.append(kmer)\n",
    "            #print(highest,\" \",count)\n",
    "            highest = count\n",
    "        count = 0;\n",
    "    return res;\n",
    "\n",
    "res = frequentWordsWithMismatch(\"ACGTTGCATGTCGCATGATGCATGAGAGCT\", 4, 1)\n",
    "for i in range(0, len(res)):\n",
    "    print(res[i], end=\" \")"
   ]
  },
  {
   "cell_type": "code",
   "execution_count": null,
   "metadata": {
    "collapsed": true
   },
   "outputs": [],
   "source": []
  }
 ],
 "metadata": {
  "kernelspec": {
   "display_name": "Python 3",
   "language": "python",
   "name": "python3"
  },
  "language_info": {
   "codemirror_mode": {
    "name": "ipython",
    "version": 3
   },
   "file_extension": ".py",
   "mimetype": "text/x-python",
   "name": "python",
   "nbconvert_exporter": "python",
   "pygments_lexer": "ipython3",
   "version": "3.5.1"
  }
 },
 "nbformat": 4,
 "nbformat_minor": 0
}
