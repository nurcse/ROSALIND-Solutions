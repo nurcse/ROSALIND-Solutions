{
 "cells": [
  {
   "cell_type": "markdown",
   "metadata": {},
   "source": [
    "# BA3D - Construct the De Bruijn Graph of a String"
   ]
  },
  {
   "cell_type": "code",
   "execution_count": 5,
   "metadata": {
    "collapsed": false
   },
   "outputs": [
    {
     "name": "stdout",
     "output_type": "stream",
     "text": [
      "GAT -> ['ATT']\n",
      "CTC -> ['TCT']\n",
      "TTC -> ['TCT']\n",
      "ATT -> ['TTC']\n",
      "CTA -> ['TAC']\n",
      "AAG -> ['AGA']\n",
      "AGA -> ['GAT']\n",
      "TCT -> ['CTC', 'CTA']\n"
     ]
    }
   ],
   "source": [
    "def deBruijnGraph(k, pattern):\n",
    "    lenPattern = len(pattern)\n",
    "    kMers = []\n",
    "    dic = {}\n",
    "    for i in range(0, lenPattern-k+1):\n",
    "        kmer = pattern[i : i+k]\n",
    "        #print(kmer[:-1], \" \", kmer[1:])\n",
    "        dic[kmer[:-1]] = list()\n",
    "        #dic[kmer[:-1]].append(kmer[1:])\n",
    "    for i in range(0, lenPattern-k+1):\n",
    "        kmer = pattern[i : i+k]\n",
    "        \n",
    "        dic[kmer[:-1]].append(kmer[1:])\n",
    "    for i, j in dic.items():\n",
    "        print(i, \"->\", j)\n",
    "\n",
    "k = 4\n",
    "text = 'AAGATTCTCTAC'\n",
    "deBruijnGraph(k, text)"
   ]
  },
  {
   "cell_type": "code",
   "execution_count": null,
   "metadata": {
    "collapsed": false
   },
   "outputs": [],
   "source": []
  }
 ],
 "metadata": {
  "kernelspec": {
   "display_name": "Python 3",
   "language": "python",
   "name": "python3"
  },
  "language_info": {
   "codemirror_mode": {
    "name": "ipython",
    "version": 3
   },
   "file_extension": ".py",
   "mimetype": "text/x-python",
   "name": "python",
   "nbconvert_exporter": "python",
   "pygments_lexer": "ipython3",
   "version": "3.5.1"
  }
 },
 "nbformat": 4,
 "nbformat_minor": 0
}
