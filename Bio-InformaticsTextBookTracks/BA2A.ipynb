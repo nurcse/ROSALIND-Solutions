{
 "cells": [
  {
   "cell_type": "markdown",
   "metadata": {},
   "source": [
    "# BA2A - Implement MotifEnumeration"
   ]
  },
  {
   "cell_type": "code",
   "execution_count": 4,
   "metadata": {
    "collapsed": false
   },
   "outputs": [
    {
     "name": "stdout",
     "output_type": "stream",
     "text": [
      "ATA\n",
      "ATT\n",
      "GTT\n",
      "TTT\n"
     ]
    }
   ],
   "source": [
    "from itertools import product\n",
    "\n",
    "def hammingDistance(dna1, dna2):\n",
    "    maxlen = max(len(dna1), len(dna2))\n",
    "    minlen = min(len(dna1), len(dna2))\n",
    "    count = maxlen - minlen\n",
    "    for i in range(0, minlen):\n",
    "        if(dna1[i] != dna2[i]):\n",
    "            count += 1\n",
    "    return count\n",
    "\n",
    "def motifEnumeration(dna, k, d):\n",
    "    kMers = []\n",
    "    allcount = len(dna)\n",
    "    #print(allcount)\n",
    "    \n",
    "    for i in product(['A', 'C', 'G', 'T'], repeat=k):\n",
    "        kmer = ''.join(i)\n",
    "        count = 0\n",
    "        for j in range(0, allcount):\n",
    "            for l in range(0, (len(dna[j])-k+1) ):\n",
    "                temp = dna[j][l : l+k]\n",
    "                if(hammingDistance(kmer, temp) <= d):\n",
    "                    count += 1\n",
    "                    #print(kmer, \" \", temp, \" \", j)\n",
    "                    #continue\n",
    "                    break\n",
    "            #print (j)\n",
    "            #print(count)\n",
    "        if(count >= allcount):\n",
    "            kMers.append(kmer)\n",
    "            #print (count)\n",
    "    return kMers\n",
    "    \n",
    "\n",
    "#dna = ['TCTGAGCTTGCGTTATTTTTAGACC', 'GTTTGACGGGAACCCGACGCCTATA', 'TTTTAGATTTCCTCAGTCCACTATA', 'CTTACAATTTCGTTATTTATCTAAT', 'CAGTAGGAATAGCCACTTTGTTGTA', 'AAATCCATTAAGGAAAGACGACCGT']\n",
    "dna = ['ATTTGGC', 'TGCCTTA', 'CGGTATC', 'GAAAATT']\n",
    "motif = []\n",
    "motif = motifEnumeration(dna, 3, 1)\n",
    "for i in range(0, len(motif)):\n",
    "    print(motif[i])"
   ]
  },
  {
   "cell_type": "code",
   "execution_count": null,
   "metadata": {
    "collapsed": true
   },
   "outputs": [],
   "source": []
  }
 ],
 "metadata": {
  "kernelspec": {
   "display_name": "Python 3",
   "language": "python",
   "name": "python3"
  },
  "language_info": {
   "codemirror_mode": {
    "name": "ipython",
    "version": 3
   },
   "file_extension": ".py",
   "mimetype": "text/x-python",
   "name": "python",
   "nbconvert_exporter": "python",
   "pygments_lexer": "ipython3",
   "version": "3.5.1"
  }
 },
 "nbformat": 4,
 "nbformat_minor": 0
}
