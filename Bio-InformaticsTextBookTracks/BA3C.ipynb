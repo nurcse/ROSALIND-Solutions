{
 "cells": [
  {
   "cell_type": "markdown",
   "metadata": {},
   "source": [
    "# BA3C - Construct the Overlap Graph of a Collection of k-mers"
   ]
  },
  {
   "cell_type": "code",
   "execution_count": 2,
   "metadata": {
    "collapsed": false
   },
   "outputs": [
    {
     "name": "stdout",
     "output_type": "stream",
     "text": [
      "GCATG -> CATGC\n",
      "CATGC -> ATGCG\n",
      "AGGCA -> GGCAT\n",
      "GGCAT -> GCATG\n"
     ]
    }
   ],
   "source": [
    "def overlapGraph(patterns):\n",
    "    lenPattern = len(patterns)\n",
    "    suffix = [x[1:] for x in patterns]\n",
    "    prefix = [x[:-1] for x in patterns]\n",
    "    \n",
    "    for i in range(0, lenPattern):\n",
    "        for j in range(0, lenPattern):\n",
    "            if(suffix[i] == prefix[j]):\n",
    "                print(patterns[i], \"->\", patterns[j])\n",
    "    return\n",
    "\n",
    "patterns = ['ATGCG',\n",
    "           'GCATG',\n",
    "           'CATGC',\n",
    "           'AGGCA',\n",
    "           'GGCAT']\n",
    "#file_name = \"C:\\\\Users\\\\nur_uddin\\\\Downloads\\\\rosalind_ba3c.txt\"\n",
    "#patterns=''\n",
    "#with open(file_name) as f:\n",
    "#    patterns = f.readlines()\n",
    "#patterns = [x[:-1] for x in patterns]\n",
    "overlapGraph(patterns)\n",
    "            "
   ]
  },
  {
   "cell_type": "code",
   "execution_count": null,
   "metadata": {
    "collapsed": false
   },
   "outputs": [],
   "source": []
  }
 ],
 "metadata": {
  "kernelspec": {
   "display_name": "Python 3",
   "language": "python",
   "name": "python3"
  },
  "language_info": {
   "codemirror_mode": {
    "name": "ipython",
    "version": 3
   },
   "file_extension": ".py",
   "mimetype": "text/x-python",
   "name": "python",
   "nbconvert_exporter": "python",
   "pygments_lexer": "ipython3",
   "version": "3.5.1"
  }
 },
 "nbformat": 4,
 "nbformat_minor": 0
}
