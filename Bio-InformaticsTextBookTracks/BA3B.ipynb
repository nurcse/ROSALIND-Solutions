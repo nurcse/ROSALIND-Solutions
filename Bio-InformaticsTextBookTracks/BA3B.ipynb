{
 "cells": [
  {
   "cell_type": "markdown",
   "metadata": {},
   "source": [
    "# BA3B - Reconstruct a String from its Genome Path"
   ]
  },
  {
   "cell_type": "code",
   "execution_count": 1,
   "metadata": {
    "collapsed": false
   },
   "outputs": [
    {
     "name": "stdout",
     "output_type": "stream",
     "text": [
      "ACCGAAGCT\n"
     ]
    }
   ],
   "source": [
    "def stringReconstruct(pattern):\n",
    "    lenPattern = len(pattern)\n",
    "    k = len(pattern[0])\n",
    "    genome = \"\"\n",
    "    for i in range(0, lenPattern):\n",
    "        if(i==0):\n",
    "            genome = pattern[0]\n",
    "        else:\n",
    "            genome += pattern[i][k-1]\n",
    "    return genome\n",
    "\n",
    "pattern = ['ACCGA',\n",
    "          'CCGAA',\n",
    "          'CGAAG',\n",
    "          'GAAGC',\n",
    "          'AAGCT']\n",
    "#file_name = \"C:\\\\Users\\\\nur_uddin\\\\Downloads\\\\rosalind_ba3b.txt\"\n",
    "#pattern = ''\n",
    "#with open(file_name) as f:\n",
    "#    pattern = f.readlines()\n",
    "#pattern = [x[:-1] for x in pattern]\n",
    "    \n",
    "print(stringReconstruct(pattern))"
   ]
  },
  {
   "cell_type": "code",
   "execution_count": null,
   "metadata": {
    "collapsed": true
   },
   "outputs": [],
   "source": []
  }
 ],
 "metadata": {
  "kernelspec": {
   "display_name": "Python 3",
   "language": "python",
   "name": "python3"
  },
  "language_info": {
   "codemirror_mode": {
    "name": "ipython",
    "version": 3
   },
   "file_extension": ".py",
   "mimetype": "text/x-python",
   "name": "python",
   "nbconvert_exporter": "python",
   "pygments_lexer": "ipython3",
   "version": "3.5.1"
  }
 },
 "nbformat": 4,
 "nbformat_minor": 0
}
