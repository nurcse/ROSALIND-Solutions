{
 "cells": [
  {
   "cell_type": "markdown",
   "metadata": {},
   "source": [
    "# BA1E - Find Patterns Forming Clumps in a String"
   ]
  },
  {
   "cell_type": "code",
   "execution_count": 3,
   "metadata": {
    "collapsed": false
   },
   "outputs": [
    {
     "name": "stdout",
     "output_type": "stream",
     "text": [
      "CGACA AATGT GAAGA "
     ]
    }
   ],
   "source": [
    "def clumpFinding(genome, k, L, t):\n",
    "    count = 0\n",
    "    lenGenome = len(genome)\n",
    "    res = []\n",
    "    dic = {}\n",
    "    for i in range(0, lenGenome-L+1):\n",
    "        lGenome = genome[i : i+L]\n",
    "        for j in range(0, len(lGenome)-k+1):\n",
    "            kmer = lGenome[j : j+k]\n",
    "            if(lGenome.count(kmer)>=t):\n",
    "                dic[kmer] = 1\n",
    "    \n",
    "    for i,j in dic.items():\n",
    "        res.append(i)\n",
    "    return res\n",
    "result = clumpFinding(\"CGGACTCGACAGATGTGAAGAAATGTGAAGACTGAGTGAAGAGAAGAGGAAACACGACACGACATTGCGACATAATGTACGAATGTAATGTGCCTATGGC\", 5, 75, 4)\n",
    "for i in range(0, len(result)):\n",
    "    print(result[i], end=\" \")"
   ]
  },
  {
   "cell_type": "code",
   "execution_count": null,
   "metadata": {
    "collapsed": true
   },
   "outputs": [],
   "source": []
  }
 ],
 "metadata": {
  "kernelspec": {
   "display_name": "Python 3",
   "language": "python",
   "name": "python3"
  },
  "language_info": {
   "codemirror_mode": {
    "name": "ipython",
    "version": 3
   },
   "file_extension": ".py",
   "mimetype": "text/x-python",
   "name": "python",
   "nbconvert_exporter": "python",
   "pygments_lexer": "ipython3",
   "version": "3.5.1"
  }
 },
 "nbformat": 4,
 "nbformat_minor": 0
}
