{
 "cells": [
  {
   "cell_type": "markdown",
   "metadata": {},
   "source": [
    "# BA2B - Find a Median String"
   ]
  },
  {
   "cell_type": "code",
   "execution_count": 8,
   "metadata": {
    "collapsed": false
   },
   "outputs": [
    {
     "name": "stdout",
     "output_type": "stream",
     "text": [
      "AGCACG\n"
     ]
    }
   ],
   "source": [
    "from itertools import product\n",
    "\n",
    "def hammingDistance(dna1, dna2):\n",
    "    maxlen = max(len(dna1), len(dna2))\n",
    "    minlen = min(len(dna1), len(dna2))\n",
    "    count = maxlen - minlen\n",
    "    for i in range(0, minlen):\n",
    "        if(dna1[i] != dna2[i]):\n",
    "            count += 1\n",
    "    return count\n",
    "\n",
    "def getMedianString(dna, k):\n",
    "    lenOfdna = len(dna)\n",
    "    Distance = 0\n",
    "    minDistance = len(dna[0])*len(dna)+k\n",
    "    \n",
    "    for i in product(['A', 'C', 'G', 'T'], repeat=k):\n",
    "        kmer = ''.join(i)\n",
    "        for j in range(0, lenOfdna):\n",
    "            localMinDist = len(dna[j])+k\n",
    "            for l in range(0, len(dna[j])-k+1 ):\n",
    "                temp = dna[j][l : l+k]\n",
    "                localMinDist = min(localMinDist, hammingDistance(kmer, temp) )\n",
    "            Distance += localMinDist\n",
    "        if(Distance <= minDistance):\n",
    "            median = kmer\n",
    "            minDistance = Distance\n",
    "        Distance = 0\n",
    "    return median\n",
    "dna = ['AAATTGACGCAT', 'GACGACCACGTT', 'CGTCAGCGCCTG', 'GCTGAGCACCGG', 'AGTACGGGACAG']\n",
    "print(getMedianString(dna, 6))"
   ]
  },
  {
   "cell_type": "code",
   "execution_count": null,
   "metadata": {
    "collapsed": true
   },
   "outputs": [],
   "source": []
  }
 ],
 "metadata": {
  "kernelspec": {
   "display_name": "Python 3",
   "language": "python",
   "name": "python3"
  },
  "language_info": {
   "codemirror_mode": {
    "name": "ipython",
    "version": 3
   },
   "file_extension": ".py",
   "mimetype": "text/x-python",
   "name": "python",
   "nbconvert_exporter": "python",
   "pygments_lexer": "ipython3",
   "version": "3.5.1"
  }
 },
 "nbformat": 4,
 "nbformat_minor": 0
}
