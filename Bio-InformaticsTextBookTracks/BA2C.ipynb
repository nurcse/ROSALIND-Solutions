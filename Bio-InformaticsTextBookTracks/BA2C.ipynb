{
 "cells": [
  {
   "cell_type": "markdown",
   "metadata": {},
   "source": [
    "# BA2C - Find a Profile-most Probable k-mer in a String"
   ]
  },
  {
   "cell_type": "code",
   "execution_count": 2,
   "metadata": {
    "collapsed": false
   },
   "outputs": [
    {
     "name": "stdout",
     "output_type": "stream",
     "text": [
      "CTGAGG\n"
     ]
    }
   ],
   "source": [
    "def getProfilemostProbableKmer(dna, k):\n",
    "    base = ['A', 'C', 'G', 'T']\n",
    "    maxProbability = 0\n",
    "    probability = 1\n",
    "    \n",
    "    for i in range(0, len(dna)-k+1):\n",
    "        temp = dna[i : i+k]\n",
    "        for j in range(0, len(temp)):\n",
    "            for l in range(0, 4):\n",
    "                if(temp[j] == base[l]):\n",
    "                    probability = probability * profile[l][j]\n",
    "        if(probability > maxProbability):\n",
    "            profileMostKmer = temp\n",
    "            maxProbability = probability\n",
    "        probability = 1\n",
    "    return profileMostKmer\n",
    "        \n",
    "    \n",
    "#dna = 'ACCTGTTTATTGCCTAAGTTCCGAACAAACCCAATATAGCCCGAGGGCCT'\n",
    "#dna = 'TGCCCGAGCTATCTTATGCGCATCGCATGCGGACCCTTCCCTAGGCTTGTCGCAAGCCATTATCCTGGGCGCTAGTTGCGCGAGTATTGTCAGACCTGATGACGCTGTAAGCTAGCGTGTTCAGCGGCGCGCAATGAGCGGTTTAGATCACAGAATCCTTTGGCGTATTCCTATCCGTTACATCACCTTCCTCACCCCTA'\n",
    "dna = 'TGTCCGCCCTAGGCCCACACTTATAGTTGGAATCACGGATCACAGTTCTTGAGAACTCGATTAATTGTATTTCTTGCGCCCCTGTGCTTGCAAGACAATAGTAAAGAACAGCCTGAGGTAAGGCTATAGGGCGTAAGCCAGAGTAATCACTAGAAGTGCTGGGAGCCTTGGACCCACCGCAAACAGAGATTGAGGATCAA'\n",
    "k = 6\n",
    "profile = [ [0.182, 0.242, 0.242, 0.303, 0.242, 0.242], \n",
    "            [0.424, 0.152, 0.242, 0.212, 0.152, 0.242], \n",
    "            [0.242, 0.152, 0.303, 0.333, 0.364, 0.273], \n",
    "            [0.152, 0.455, 0.212, 0.152, 0.242, 0.242] ]\n",
    "print (getProfilemostProbableKmer(dna, k) )"
   ]
  },
  {
   "cell_type": "code",
   "execution_count": null,
   "metadata": {
    "collapsed": true
   },
   "outputs": [],
   "source": []
  }
 ],
 "metadata": {
  "kernelspec": {
   "display_name": "Python 3",
   "language": "python",
   "name": "python3"
  },
  "language_info": {
   "codemirror_mode": {
    "name": "ipython",
    "version": 3
   },
   "file_extension": ".py",
   "mimetype": "text/x-python",
   "name": "python",
   "nbconvert_exporter": "python",
   "pygments_lexer": "ipython3",
   "version": "3.5.1"
  }
 },
 "nbformat": 4,
 "nbformat_minor": 0
}
