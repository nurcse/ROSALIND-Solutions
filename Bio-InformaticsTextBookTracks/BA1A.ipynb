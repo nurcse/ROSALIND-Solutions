{
 "cells": [
  {
   "cell_type": "markdown",
   "metadata": {},
   "source": [
    "# BA1A - Compute the Number of Times a Pattern Appears in a Text¶"
   ]
  },
  {
   "cell_type": "code",
   "execution_count": 2,
   "metadata": {
    "collapsed": false
   },
   "outputs": [
    {
     "name": "stdout",
     "output_type": "stream",
     "text": [
      "32\n"
     ]
    }
   ],
   "source": [
    "def patternCount(seq, pattern):\n",
    "    count = 0;\n",
    "    lenOfSeq = len(seq);\n",
    "    lenOfPattern = len(pattern)\n",
    "    for i in range(0, (lenOfSeq-lenOfPattern)+1):\n",
    "        if(seq[i : i+lenOfPattern] == pattern):\n",
    "            count = count+1;\n",
    "    return count;\n",
    "    \n",
    "print(patternCount(\"GGATTGGATATTGGAAGATTGGATAGCTGTCTTGGATAACTTCTTGGATAAGTTTGGATAAGAGTTGGCACCTTGGATATTGGATATTTGGATAAGAGTTTTGGATAATACTTGGATATTGGATAAATTGGATATTGGATATTGGATATTGGATAGGACTTGGATAGGTTGGATATTGGATACGTCCTTTGGATATTGGATACGGAGTTGGATATATGTTGGATATACCAAGAGTCGGTTTGGATATTATTGGATATTGGATATCTTGGATAATTGGATATTGGATATTGGATATGAACTTGGATAGTTTGGATATGCTCATTGGATATTGGATATTGGATACTTGGATAGTTGGATATTGGATATTGTTGGATATTTGGATAGGAATACCTGTTTGGATACTTGGATATTGGATAGGGTTGGATATTGGATATTATTGGATATTGCGTTGGATATAGTCGTTGGATAGAGATTTGGATACTTGGATATTGGATAATTTGGATACGTTCAATTGGATATTGGATATAGCAATGTTGGATAATTGGATATTGGATAATTGGATATATTGGATAAGTCTTGGATACTTGGATAATTGGATACGTATCTCTATCTTTGGATAGGTTGGATTTGGATAACGGTTGTGTTGGATAAGCTTAGTTATTGGATATATTGGATATGAGTTTTGGATAACTGATTGGATAGTTGGATACCGTTGGATACTTGGATAGCTTGGATATTGGATATTGGATATTTTGGATAATAATTGGATATATTGGATAGCGCTTGGATAGTCGAACCCTTGGATACTTGGATAATTGGATAGTCTTGGATAACCCCCTTGGATATATTGGATAGCGCGTTGGATAATTGGATATTGGATATTGGATACTTACCTTGGATACGATTGGATATAGATTGGATATTGGATAACCCTACGTTGGATATTGGATAGCTTGGATAGTTGGATACTATTTGGATACATTGGATAAACG\",\"TTGGATATT\"));"
   ]
  },
  {
   "cell_type": "code",
   "execution_count": null,
   "metadata": {
    "collapsed": true
   },
   "outputs": [],
   "source": []
  }
 ],
 "metadata": {
  "kernelspec": {
   "display_name": "Python 3",
   "language": "python",
   "name": "python3"
  },
  "language_info": {
   "codemirror_mode": {
    "name": "ipython",
    "version": 3
   },
   "file_extension": ".py",
   "mimetype": "text/x-python",
   "name": "python",
   "nbconvert_exporter": "python",
   "pygments_lexer": "ipython3",
   "version": "3.5.1"
  }
 },
 "nbformat": 4,
 "nbformat_minor": 0
}
